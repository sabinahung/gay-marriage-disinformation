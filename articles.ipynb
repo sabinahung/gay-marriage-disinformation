{
 "cells": [
  {
   "cell_type": "markdown",
   "metadata": {},
   "source": [
    "#### imports"
   ]
  },
  {
   "cell_type": "code",
   "execution_count": 33,
   "metadata": {},
   "outputs": [],
   "source": [
    "import pandas as pd\n",
    "import re"
   ]
  },
  {
   "cell_type": "markdown",
   "metadata": {},
   "source": [
    "#### load file + understanding the file"
   ]
  },
  {
   "cell_type": "code",
   "execution_count": 10,
   "metadata": {},
   "outputs": [
    {
     "name": "stdout",
     "output_type": "stream",
     "text": [
      "<class 'pandas.core.frame.DataFrame'>\n",
      "RangeIndex: 154062 entries, 0 to 154061\n",
      "Data columns (total 11 columns):\n",
      " #   Column                   Non-Null Count   Dtype \n",
      "---  ------                   --------------   ----- \n",
      " 0   id                       154054 non-null  object\n",
      " 1   articleType              153823 non-null  object\n",
      " 2   status                   153823 non-null  object\n",
      " 3   text                     151736 non-null  object\n",
      " 4   normalArticleReplyCount  153760 non-null  object\n",
      " 5   createdAt                153745 non-null  object\n",
      " 6   updatedAt                145058 non-null  object\n",
      " 7   lastRequestedAt          151835 non-null  object\n",
      " 8   userIdsha256             149903 non-null  object\n",
      " 9   appId                    153721 non-null  object\n",
      " 10  references               153721 non-null  object\n",
      "dtypes: object(11)\n",
      "memory usage: 12.9+ MB\n"
     ]
    }
   ],
   "source": [
    "df = pd.read_csv('articles.csv')\n",
    "df.info()"
   ]
  },
  {
   "cell_type": "code",
   "execution_count": 4,
   "metadata": {},
   "outputs": [
    {
     "data": {
      "text/html": [
       "<div>\n",
       "<style scoped>\n",
       "    .dataframe tbody tr th:only-of-type {\n",
       "        vertical-align: middle;\n",
       "    }\n",
       "\n",
       "    .dataframe tbody tr th {\n",
       "        vertical-align: top;\n",
       "    }\n",
       "\n",
       "    .dataframe thead th {\n",
       "        text-align: right;\n",
       "    }\n",
       "</style>\n",
       "<table border=\"1\" class=\"dataframe\">\n",
       "  <thead>\n",
       "    <tr style=\"text-align: right;\">\n",
       "      <th></th>\n",
       "      <th>id</th>\n",
       "      <th>articleType</th>\n",
       "      <th>status</th>\n",
       "      <th>text</th>\n",
       "      <th>normalArticleReplyCount</th>\n",
       "      <th>createdAt</th>\n",
       "      <th>updatedAt</th>\n",
       "      <th>lastRequestedAt</th>\n",
       "      <th>userIdsha256</th>\n",
       "      <th>appId</th>\n",
       "      <th>references</th>\n",
       "    </tr>\n",
       "  </thead>\n",
       "  <tbody>\n",
       "    <tr>\n",
       "      <th>138932</th>\n",
       "      <td>7ilg_4gBFLWd9xY2pBBy</td>\n",
       "      <td>VIDEO</td>\n",
       "      <td>NORMAL</td>\n",
       "      <td>冷艷殺手 蘭花螳螂\\n她無情無義會把自己的老公一口一口撕碎的吞下肚子\\n她擅長偽裝\\n遠看像...</td>\n",
       "      <td>0</td>\n",
       "      <td>2023-06-28T00:21:43.662Z</td>\n",
       "      <td>2023-06-28T00:21:43.662Z</td>\n",
       "      <td>2023-06-28T00:21:43.672Z</td>\n",
       "      <td>7a757b9e4ae742e3544ad36ad9d4d56fa2224dc9b2899e...</td>\n",
       "      <td>RUMORS_LINE_BOT</td>\n",
       "      <td>LINE</td>\n",
       "    </tr>\n",
       "    <tr>\n",
       "      <th>110880</th>\n",
       "      <td>erqwnga8hlgn</td>\n",
       "      <td>TEXT</td>\n",
       "      <td>NORMAL</td>\n",
       "      <td>https://youtu.be/d-1UFC2YcKE?si=jR0_MtHHCCIMe7Q4</td>\n",
       "      <td>0</td>\n",
       "      <td>2023-08-24T02:31:15.187Z</td>\n",
       "      <td>2023-08-24T02:31:15.187Z</td>\n",
       "      <td>2023-08-24T02:31:15.228Z</td>\n",
       "      <td>483165c3da09fd8b543694075fff6e6b4c9abb95a1431a...</td>\n",
       "      <td>RUMORS_LINE_BOT</td>\n",
       "      <td>LINE</td>\n",
       "    </tr>\n",
       "    <tr>\n",
       "      <th>84911</th>\n",
       "      <td>2gx3j358xj3mq</td>\n",
       "      <td>TEXT</td>\n",
       "      <td>NORMAL</td>\n",
       "      <td>世界上最安全的國家，美國罩著，加拿大是個領土面積非常大的國家，但他自己卻並不屬於自己，而是屬...</td>\n",
       "      <td>0</td>\n",
       "      <td>2022-11-07T15:13:09.708Z</td>\n",
       "      <td>2022-11-07T15:13:09.708Z</td>\n",
       "      <td>2022-11-07T15:13:09.731Z</td>\n",
       "      <td>d8a4cff329496e83b97673c709c7b966ac56afc3793d45...</td>\n",
       "      <td>RUMORS_LINE_BOT</td>\n",
       "      <td>LINE</td>\n",
       "    </tr>\n",
       "    <tr>\n",
       "      <th>33923</th>\n",
       "      <td>266lbmlbzvp0k</td>\n",
       "      <td>TEXT</td>\n",
       "      <td>NORMAL</td>\n",
       "      <td>新年快樂❤️ 新的一年如何迎接更多美好？\\n和各位推薦一個療法「希塔療癒」有著超強顯化療癒效...</td>\n",
       "      <td>0</td>\n",
       "      <td>2021-12-14T06:00:00.734Z</td>\n",
       "      <td>2021-12-14T06:00:00.734Z</td>\n",
       "      <td>2021-12-14T06:00:13.970Z</td>\n",
       "      <td>ef84659eca4db9f8ca5d04ebbb886d0adc37ddc423bb30...</td>\n",
       "      <td>RUMORS_LINE_BOT</td>\n",
       "      <td>LINE</td>\n",
       "    </tr>\n",
       "    <tr>\n",
       "      <th>81611</th>\n",
       "      <td>1ml7n3nww79pi</td>\n",
       "      <td>TEXT</td>\n",
       "      <td>NORMAL</td>\n",
       "      <td>https://market.icook.tw/products/thomson-soymi...</td>\n",
       "      <td>0</td>\n",
       "      <td>2022-10-11T14:46:22.842Z</td>\n",
       "      <td>2022-10-11T14:46:22.842Z</td>\n",
       "      <td>2022-10-11T14:46:22.907Z</td>\n",
       "      <td>a398738562b827eb5caab487d4925117b31ff60c2cb98b...</td>\n",
       "      <td>RUMORS_LINE_BOT</td>\n",
       "      <td>LINE</td>\n",
       "    </tr>\n",
       "    <tr>\n",
       "      <th>130647</th>\n",
       "      <td>___wB_gf4AfwB-U_wAvgc8ADwf_AA8b__wGAf4Bg_-A</td>\n",
       "      <td>IMAGE</td>\n",
       "      <td>NORMAL</td>\n",
       "      <td>中華民國醫師公會全國聯合會\\n【澄清聲明】\\n針對武漢疫情資訊 切勿相信不實訊息\\n本會會員...</td>\n",
       "      <td>0</td>\n",
       "      <td>2020-03-23T14:35:16.354Z</td>\n",
       "      <td>NaN</td>\n",
       "      <td>2023-10-12T07:24:30.003Z</td>\n",
       "      <td>5d71eb6a2af4e3adda0c9c91ef86ee5f40ea5275f7c27d...</td>\n",
       "      <td>BATCH</td>\n",
       "      <td>LINE</td>\n",
       "    </tr>\n",
       "    <tr>\n",
       "      <th>141017</th>\n",
       "      <td>cs84A4oBrkRFoI6rVpAo</td>\n",
       "      <td>VIDEO</td>\n",
       "      <td>NORMAL</td>\n",
       "      <td>看影片﹗</td>\n",
       "      <td>0</td>\n",
       "      <td>2023-08-17T11:18:58.267Z</td>\n",
       "      <td>2023-08-17T11:18:58.267Z</td>\n",
       "      <td>2023-08-17T11:18:58.397Z</td>\n",
       "      <td>a8f033f48d85806024a80f6474f85b44f45777f0d2dde6...</td>\n",
       "      <td>RUMORS_LINE_BOT</td>\n",
       "      <td>LINE</td>\n",
       "    </tr>\n",
       "    <tr>\n",
       "      <th>75279</th>\n",
       "      <td>w10mjnso4xhu</td>\n",
       "      <td>TEXT</td>\n",
       "      <td>NORMAL</td>\n",
       "      <td>https://www.businesstoday.com.tw/article/categ...</td>\n",
       "      <td>1</td>\n",
       "      <td>2019-05-21T03:25:12.229Z</td>\n",
       "      <td>2019-05-21T03:25:12.229Z</td>\n",
       "      <td>2019-05-21T03:25:12.268Z</td>\n",
       "      <td>ff6d77167797d1bf0b82eb7d2b35f7dda00a947f5008cd...</td>\n",
       "      <td>RUMORS_LINE_BOT</td>\n",
       "      <td>LINE</td>\n",
       "    </tr>\n",
       "    <tr>\n",
       "      <th>130521</th>\n",
       "      <td>jD0EHQ7dDfwF_D_4F-BBpEP8AkCAf4f_f_5_8HgAgAE</td>\n",
       "      <td>IMAGE</td>\n",
       "      <td>NORMAL</td>\n",
       "      <td>COVID-19\\n今天開打!\\n#有政府 #請安心\\n行政院\\n</td>\n",
       "      <td>0</td>\n",
       "      <td>2021-03-23T11:52:15.026Z</td>\n",
       "      <td>NaN</td>\n",
       "      <td>2021-03-24T01:51:25.842Z</td>\n",
       "      <td>5d71eb6a2af4e3adda0c9c91ef86ee5f40ea5275f7c27d...</td>\n",
       "      <td>BATCH</td>\n",
       "      <td>LINE</td>\n",
       "    </tr>\n",
       "    <tr>\n",
       "      <th>35776</th>\n",
       "      <td>1j6blurp94ikj</td>\n",
       "      <td>TEXT</td>\n",
       "      <td>NORMAL</td>\n",
       "      <td>https://twgg.clgoodshop.com/detail.php/26043/?...</td>\n",
       "      <td>0</td>\n",
       "      <td>2021-07-28T01:09:49.875Z</td>\n",
       "      <td>2021-07-28T01:09:49.875Z</td>\n",
       "      <td>2021-07-28T01:09:55.365Z</td>\n",
       "      <td>27aeca88fc8987a8e08efb7bec5a0b75df6f8f7facf4da...</td>\n",
       "      <td>RUMORS_LINE_BOT</td>\n",
       "      <td>LINE</td>\n",
       "    </tr>\n",
       "  </tbody>\n",
       "</table>\n",
       "</div>"
      ],
      "text/plain": [
       "                                                 id articleType  status  \\\n",
       "138932                         7ilg_4gBFLWd9xY2pBBy       VIDEO  NORMAL   \n",
       "110880                                 erqwnga8hlgn        TEXT  NORMAL   \n",
       "84911                                 2gx3j358xj3mq        TEXT  NORMAL   \n",
       "33923                                 266lbmlbzvp0k        TEXT  NORMAL   \n",
       "81611                                 1ml7n3nww79pi        TEXT  NORMAL   \n",
       "130647  ___wB_gf4AfwB-U_wAvgc8ADwf_AA8b__wGAf4Bg_-A       IMAGE  NORMAL   \n",
       "141017                         cs84A4oBrkRFoI6rVpAo       VIDEO  NORMAL   \n",
       "75279                                  w10mjnso4xhu        TEXT  NORMAL   \n",
       "130521  jD0EHQ7dDfwF_D_4F-BBpEP8AkCAf4f_f_5_8HgAgAE       IMAGE  NORMAL   \n",
       "35776                                 1j6blurp94ikj        TEXT  NORMAL   \n",
       "\n",
       "                                                     text  \\\n",
       "138932  冷艷殺手 蘭花螳螂\\n她無情無義會把自己的老公一口一口撕碎的吞下肚子\\n她擅長偽裝\\n遠看像...   \n",
       "110880   https://youtu.be/d-1UFC2YcKE?si=jR0_MtHHCCIMe7Q4   \n",
       "84911   世界上最安全的國家，美國罩著，加拿大是個領土面積非常大的國家，但他自己卻並不屬於自己，而是屬...   \n",
       "33923   新年快樂❤️ 新的一年如何迎接更多美好？\\n和各位推薦一個療法「希塔療癒」有著超強顯化療癒效...   \n",
       "81611   https://market.icook.tw/products/thomson-soymi...   \n",
       "130647  中華民國醫師公會全國聯合會\\n【澄清聲明】\\n針對武漢疫情資訊 切勿相信不實訊息\\n本會會員...   \n",
       "141017                                               看影片﹗   \n",
       "75279   https://www.businesstoday.com.tw/article/categ...   \n",
       "130521                  COVID-19\\n今天開打!\\n#有政府 #請安心\\n行政院\\n   \n",
       "35776   https://twgg.clgoodshop.com/detail.php/26043/?...   \n",
       "\n",
       "       normalArticleReplyCount                 createdAt  \\\n",
       "138932                       0  2023-06-28T00:21:43.662Z   \n",
       "110880                       0  2023-08-24T02:31:15.187Z   \n",
       "84911                        0  2022-11-07T15:13:09.708Z   \n",
       "33923                        0  2021-12-14T06:00:00.734Z   \n",
       "81611                        0  2022-10-11T14:46:22.842Z   \n",
       "130647                       0  2020-03-23T14:35:16.354Z   \n",
       "141017                       0  2023-08-17T11:18:58.267Z   \n",
       "75279                        1  2019-05-21T03:25:12.229Z   \n",
       "130521                       0  2021-03-23T11:52:15.026Z   \n",
       "35776                        0  2021-07-28T01:09:49.875Z   \n",
       "\n",
       "                       updatedAt           lastRequestedAt  \\\n",
       "138932  2023-06-28T00:21:43.662Z  2023-06-28T00:21:43.672Z   \n",
       "110880  2023-08-24T02:31:15.187Z  2023-08-24T02:31:15.228Z   \n",
       "84911   2022-11-07T15:13:09.708Z  2022-11-07T15:13:09.731Z   \n",
       "33923   2021-12-14T06:00:00.734Z  2021-12-14T06:00:13.970Z   \n",
       "81611   2022-10-11T14:46:22.842Z  2022-10-11T14:46:22.907Z   \n",
       "130647                       NaN  2023-10-12T07:24:30.003Z   \n",
       "141017  2023-08-17T11:18:58.267Z  2023-08-17T11:18:58.397Z   \n",
       "75279   2019-05-21T03:25:12.229Z  2019-05-21T03:25:12.268Z   \n",
       "130521                       NaN  2021-03-24T01:51:25.842Z   \n",
       "35776   2021-07-28T01:09:49.875Z  2021-07-28T01:09:55.365Z   \n",
       "\n",
       "                                             userIdsha256            appId  \\\n",
       "138932  7a757b9e4ae742e3544ad36ad9d4d56fa2224dc9b2899e...  RUMORS_LINE_BOT   \n",
       "110880  483165c3da09fd8b543694075fff6e6b4c9abb95a1431a...  RUMORS_LINE_BOT   \n",
       "84911   d8a4cff329496e83b97673c709c7b966ac56afc3793d45...  RUMORS_LINE_BOT   \n",
       "33923   ef84659eca4db9f8ca5d04ebbb886d0adc37ddc423bb30...  RUMORS_LINE_BOT   \n",
       "81611   a398738562b827eb5caab487d4925117b31ff60c2cb98b...  RUMORS_LINE_BOT   \n",
       "130647  5d71eb6a2af4e3adda0c9c91ef86ee5f40ea5275f7c27d...            BATCH   \n",
       "141017  a8f033f48d85806024a80f6474f85b44f45777f0d2dde6...  RUMORS_LINE_BOT   \n",
       "75279   ff6d77167797d1bf0b82eb7d2b35f7dda00a947f5008cd...  RUMORS_LINE_BOT   \n",
       "130521  5d71eb6a2af4e3adda0c9c91ef86ee5f40ea5275f7c27d...            BATCH   \n",
       "35776   27aeca88fc8987a8e08efb7bec5a0b75df6f8f7facf4da...  RUMORS_LINE_BOT   \n",
       "\n",
       "       references  \n",
       "138932       LINE  \n",
       "110880       LINE  \n",
       "84911        LINE  \n",
       "33923        LINE  \n",
       "81611        LINE  \n",
       "130647       LINE  \n",
       "141017       LINE  \n",
       "75279        LINE  \n",
       "130521       LINE  \n",
       "35776        LINE  "
      ]
     },
     "execution_count": 4,
     "metadata": {},
     "output_type": "execute_result"
    }
   ],
   "source": [
    "df.sample(10)"
   ]
  },
  {
   "cell_type": "markdown",
   "metadata": {},
   "source": [
    "#### cleaning data"
   ]
  },
  {
   "cell_type": "code",
   "execution_count": 8,
   "metadata": {},
   "outputs": [
    {
     "data": {
      "text/plain": [
       "createdAt\n",
       "False    153745\n",
       "True        317\n",
       "Name: count, dtype: int64"
      ]
     },
     "execution_count": 8,
     "metadata": {},
     "output_type": "execute_result"
    }
   ],
   "source": [
    "# find out how many na values in the createdAt column\n",
    "df.createdAt.isna().value_counts()"
   ]
  },
  {
   "cell_type": "code",
   "execution_count": 18,
   "metadata": {},
   "outputs": [],
   "source": [
    "# drop na values in createdAt column\n",
    "df = df.dropna(subset=['createdAt'])"
   ]
  },
  {
   "cell_type": "markdown",
   "metadata": {},
   "source": [
    "#### data analysis"
   ]
  },
  {
   "cell_type": "code",
   "execution_count": 64,
   "metadata": {},
   "outputs": [
    {
     "data": {
      "text/plain": [
       "(12126, 11)"
      ]
     },
     "execution_count": 64,
     "metadata": {},
     "output_type": "execute_result"
    }
   ],
   "source": [
    "# filter it down to only articles created in 2018\n",
    "df_2018 = df[df.createdAt.str.startswith('2018')]\n",
    "df_2018.shape"
   ]
  },
  {
   "cell_type": "code",
   "execution_count": 104,
   "metadata": {},
   "outputs": [
    {
     "name": "stdout",
     "output_type": "stream",
     "text": [
      "168\n"
     ]
    }
   ],
   "source": [
    "# filter the 2018 data to text contains gay synonyms\n",
    "df2018_gay = df_2018[df_2018.text.str.contains('同性婚|同婚|同性戀|男同志|女同志|LGBT|gay') == True]\n",
    "print(df2018_gay.shape[0])\n",
    "\n",
    "# save to csv\n",
    "df2018_gay.to_csv('2018_lgbt_articles.csv', index=False)"
   ]
  },
  {
   "cell_type": "code",
   "execution_count": 100,
   "metadata": {},
   "outputs": [],
   "source": [
    "# the themes associated with gay\n",
    "gay_themes = []\n",
    "\n",
    "themes = [\n",
    "        # norms\n",
    "        '常理|常規|倫理|制度|規範|天理|倫常|婚姻價值|輩份|人倫',\n",
    "\n",
    "        # for the sake of next generation\n",
    "        '下一代|子孫|後代|傳承|繁衍|後裔|子女|傳宗接代|傳宗',\n",
    "\n",
    "        # moral\n",
    "        '道德|道義|善正|因果|善惡|報應|妖孽|傷風敗俗',\n",
    "\n",
    "        # christianity\n",
    "        '基督|耶穌|教會|上帝|神父|地獄',\n",
    "\n",
    "        # AIDS/health insurance\n",
    "        '愛滋|健保',\n",
    "\n",
    "        # referendum\n",
    "        '公投|同意',\n",
    "\n",
    "        # starbucks\n",
    "        '星巴克',\n",
    "\n",
    "        # prosmicuity\n",
    "        '亂性|性解放|性行為|性開放|肛交',\n",
    "\n",
    "        # brainwash\n",
    "        '洗腦|灌輸',\n",
    "\n",
    "        # credibility/attribution\n",
    "        '記者|報導|新聞|作者|news'\n",
    "]\n",
    "\n",
    "# find out which theme has the most articles\n",
    "for theme in themes:\n",
    "    # print(theme)\n",
    "    # print(df2018_gay[df2018_gay.text.str.contains(f\"{theme}\") == True].shape[0])\n",
    "    # print('---------')\n",
    "\n",
    "    # if i want to save inidiidual theme to csv\n",
    "    # df2018_gay[df2018_gay.text.str.contains(f\"{theme}\") == True].to_csv(f'2018gay_{theme}.csv', index=False)\n",
    "    \n",
    "    # make a list of dictionaries\n",
    "    data = {\n",
    "            'name' : theme,\n",
    "            'count' : df2018_gay[df2018_gay.text.str.contains(f\"{theme}\") == True].shape[0]\n",
    "        }\n",
    "    gay_themes.append(data)\n",
    "\n",
    "# convert the list of dictionaries to a dataframe\n",
    "df_gay_themes = pd.DataFrame(gay_themes)\n",
    "df_gay_themes.to_csv('2018_gay_themes_count.csv', index=False)"
   ]
  },
  {
   "cell_type": "code",
   "execution_count": 103,
   "metadata": {},
   "outputs": [],
   "source": [
    "# find out when they are created\n",
    "df2018_gay.createdAt.str.extract('2018-(.*)-').value_counts().sort_index(ascending=False).to_csv('2018_timeline.csv')"
   ]
  }
 ],
 "metadata": {
  "kernelspec": {
   "display_name": "Python 3",
   "language": "python",
   "name": "python3"
  },
  "language_info": {
   "codemirror_mode": {
    "name": "ipython",
    "version": 3
   },
   "file_extension": ".py",
   "mimetype": "text/x-python",
   "name": "python",
   "nbconvert_exporter": "python",
   "pygments_lexer": "ipython3",
   "version": "3.11.7"
  }
 },
 "nbformat": 4,
 "nbformat_minor": 2
}
