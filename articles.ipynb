{
 "cells": [
  {
   "cell_type": "markdown",
   "metadata": {},
   "source": [
    "#### imports"
   ]
  },
  {
   "cell_type": "code",
   "execution_count": 1,
   "metadata": {},
   "outputs": [],
   "source": [
    "import pandas as pd\n",
    "import re"
   ]
  },
  {
   "cell_type": "markdown",
   "metadata": {},
   "source": [
    "#### load file + understanding the file"
   ]
  },
  {
   "cell_type": "code",
   "execution_count": 2,
   "metadata": {},
   "outputs": [
    {
     "name": "stdout",
     "output_type": "stream",
     "text": [
      "<class 'pandas.core.frame.DataFrame'>\n",
      "RangeIndex: 154062 entries, 0 to 154061\n",
      "Data columns (total 11 columns):\n",
      " #   Column                   Non-Null Count   Dtype \n",
      "---  ------                   --------------   ----- \n",
      " 0   id                       154054 non-null  object\n",
      " 1   articleType              153823 non-null  object\n",
      " 2   status                   153823 non-null  object\n",
      " 3   text                     151736 non-null  object\n",
      " 4   normalArticleReplyCount  153760 non-null  object\n",
      " 5   createdAt                153745 non-null  object\n",
      " 6   updatedAt                145058 non-null  object\n",
      " 7   lastRequestedAt          151835 non-null  object\n",
      " 8   userIdsha256             149903 non-null  object\n",
      " 9   appId                    153721 non-null  object\n",
      " 10  references               153721 non-null  object\n",
      "dtypes: object(11)\n",
      "memory usage: 12.9+ MB\n"
     ]
    }
   ],
   "source": [
    "df = pd.read_csv('articles.csv')\n",
    "df.info()"
   ]
  },
  {
   "cell_type": "code",
   "execution_count": 3,
   "metadata": {},
   "outputs": [
    {
     "data": {
      "text/html": [
       "<div>\n",
       "<style scoped>\n",
       "    .dataframe tbody tr th:only-of-type {\n",
       "        vertical-align: middle;\n",
       "    }\n",
       "\n",
       "    .dataframe tbody tr th {\n",
       "        vertical-align: top;\n",
       "    }\n",
       "\n",
       "    .dataframe thead th {\n",
       "        text-align: right;\n",
       "    }\n",
       "</style>\n",
       "<table border=\"1\" class=\"dataframe\">\n",
       "  <thead>\n",
       "    <tr style=\"text-align: right;\">\n",
       "      <th></th>\n",
       "      <th>id</th>\n",
       "      <th>articleType</th>\n",
       "      <th>status</th>\n",
       "      <th>text</th>\n",
       "      <th>normalArticleReplyCount</th>\n",
       "      <th>createdAt</th>\n",
       "      <th>updatedAt</th>\n",
       "      <th>lastRequestedAt</th>\n",
       "      <th>userIdsha256</th>\n",
       "      <th>appId</th>\n",
       "      <th>references</th>\n",
       "    </tr>\n",
       "  </thead>\n",
       "  <tbody>\n",
       "    <tr>\n",
       "      <th>44283</th>\n",
       "      <td>1jr0p91yn0z02</td>\n",
       "      <td>TEXT</td>\n",
       "      <td>NORMAL</td>\n",
       "      <td>https://www.facebook.com/groups/14171248050680...</td>\n",
       "      <td>1</td>\n",
       "      <td>2021-09-22T12:59:17.846Z</td>\n",
       "      <td>2021-09-22T12:59:17.846Z</td>\n",
       "      <td>2021-09-22T13:02:21.927Z</td>\n",
       "      <td>117edc7e3ff41c77e51c47f6b27db8b438b91bb9444b4c...</td>\n",
       "      <td>RUMORS_LINE_BOT</td>\n",
       "      <td>LINE</td>\n",
       "    </tr>\n",
       "    <tr>\n",
       "      <th>77361</th>\n",
       "      <td>2u0o9tp6oisro</td>\n",
       "      <td>TEXT</td>\n",
       "      <td>NORMAL</td>\n",
       "      <td>轉貼分享\\n\\n美國政客的無恥技倆，已被世人看穿！\\n\\n報載烏克蘭總統澤倫斯基（Volod...</td>\n",
       "      <td>1</td>\n",
       "      <td>2022-02-13T08:03:59.087Z</td>\n",
       "      <td>2022-02-13T08:03:59.087Z</td>\n",
       "      <td>2022-02-14T08:57:27.325Z</td>\n",
       "      <td>f85abeed2af3a1094588f7f8fe237c5953c29041965daf...</td>\n",
       "      <td>RUMORS_LINE_BOT</td>\n",
       "      <td>LINE</td>\n",
       "    </tr>\n",
       "    <tr>\n",
       "      <th>128239</th>\n",
       "      <td>tgCC74FujT8eOB4eH7o_AA-QYQB33l_wf_B_sBD2AFg</td>\n",
       "      <td>IMAGE</td>\n",
       "      <td>NORMAL</td>\n",
       "      <td>總統、立委選舉\\n攸關國家未來\\n不是意氣之爭\\n國家人民絕對大於黨\\n李艷秋:\\n我們不確...</td>\n",
       "      <td>0</td>\n",
       "      <td>2019-11-28T03:51:32.953Z</td>\n",
       "      <td>NaN</td>\n",
       "      <td>2019-11-30T07:40:06.559Z</td>\n",
       "      <td>5d71eb6a2af4e3adda0c9c91ef86ee5f40ea5275f7c27d...</td>\n",
       "      <td>BATCH</td>\n",
       "      <td>LINE</td>\n",
       "    </tr>\n",
       "    <tr>\n",
       "      <th>69314</th>\n",
       "      <td>AVzi3Sw1yCdS-nWhubDX</td>\n",
       "      <td>TEXT</td>\n",
       "      <td>NORMAL</td>\n",
       "      <td>支付寶又扔了個重磅！馬雲大招不斷，沸騰中國\\nhttp://www.mooner.orgs....</td>\n",
       "      <td>1</td>\n",
       "      <td>2017-06-26T05:26:04.596Z</td>\n",
       "      <td>2017-06-26T05:26:04.596Z</td>\n",
       "      <td>2017-06-26T05:26:04.605Z</td>\n",
       "      <td>01372823f90eed435e68561291f84fa70139eb9545cfa2...</td>\n",
       "      <td>RUMORS_LINE_BOT</td>\n",
       "      <td>LINE</td>\n",
       "    </tr>\n",
       "    <tr>\n",
       "      <th>112461</th>\n",
       "      <td>RCllXIkBFLWd9xY20XV6</td>\n",
       "      <td>VIDEO</td>\n",
       "      <td>NORMAL</td>\n",
       "      <td>請注意！未接到的電話都不要回撥\\n所有未接到的電話你都不要回撥\\n如果他真的是要找你這一個人...</td>\n",
       "      <td>1</td>\n",
       "      <td>2023-07-16T01:52:03.959Z</td>\n",
       "      <td>2023-07-24T14:20:18.785Z</td>\n",
       "      <td>2023-07-21T23:58:42.504Z</td>\n",
       "      <td>327ea5f74cd5e84bb88e5e6ed534756fcb85bf4aa78510...</td>\n",
       "      <td>RUMORS_LINE_BOT</td>\n",
       "      <td>LINE</td>\n",
       "    </tr>\n",
       "    <tr>\n",
       "      <th>60532</th>\n",
       "      <td>152xggotfumkn</td>\n",
       "      <td>TEXT</td>\n",
       "      <td>NORMAL</td>\n",
       "      <td>國民法官LINE貼圖上線，可免費下載，送禮自用兩相宜喔！\\n\\n連結 https://lin...</td>\n",
       "      <td>3</td>\n",
       "      <td>2021-08-20T02:59:50.179Z</td>\n",
       "      <td>2021-08-20T02:59:50.179Z</td>\n",
       "      <td>2021-08-20T04:26:06.355Z</td>\n",
       "      <td>13ebffb8a6817897f5f0615946ed1df0820a20fc5e45e9...</td>\n",
       "      <td>RUMORS_LINE_BOT</td>\n",
       "      <td>LINE</td>\n",
       "    </tr>\n",
       "    <tr>\n",
       "      <th>108138</th>\n",
       "      <td>27ziz1vv3ut61</td>\n",
       "      <td>TEXT</td>\n",
       "      <td>NORMAL</td>\n",
       "      <td>(quiet volume)9/12法人機構操作通知(loud volume)\\n\\n(su...</td>\n",
       "      <td>0</td>\n",
       "      <td>2023-09-12T18:22:42.364Z</td>\n",
       "      <td>2023-09-12T18:22:42.364Z</td>\n",
       "      <td>2023-09-12T18:22:42.397Z</td>\n",
       "      <td>a83648e368053e0feb27e9455816f983be6594384f6c5a...</td>\n",
       "      <td>RUMORS_LINE_BOT</td>\n",
       "      <td>LINE</td>\n",
       "    </tr>\n",
       "    <tr>\n",
       "      <th>44112</th>\n",
       "      <td>5d556ayoi1o4</td>\n",
       "      <td>TEXT</td>\n",
       "      <td>NORMAL</td>\n",
       "      <td>https://m.trustglobal.vip/#/register?code=792117</td>\n",
       "      <td>0</td>\n",
       "      <td>2021-09-25T00:22:24.720Z</td>\n",
       "      <td>2021-09-25T00:22:24.720Z</td>\n",
       "      <td>2021-09-25T00:22:24.754Z</td>\n",
       "      <td>759abed2d0f40306fb67a4d253de5240c9a0952c24d14e...</td>\n",
       "      <td>RUMORS_LINE_BOT</td>\n",
       "      <td>LINE</td>\n",
       "    </tr>\n",
       "    <tr>\n",
       "      <th>127706</th>\n",
       "      <td>_wMAb4D7wPL-YGLwPyA_YP_4v_CCwIDAwOD-4fhh8YE</td>\n",
       "      <td>IMAGE</td>\n",
       "      <td>NORMAL</td>\n",
       "      <td>ATA-23\\n臺北市政府\\n</td>\n",
       "      <td>0</td>\n",
       "      <td>2022-03-16T12:12:57.844Z</td>\n",
       "      <td>NaN</td>\n",
       "      <td>2022-03-16T12:13:20.370Z</td>\n",
       "      <td>5d71eb6a2af4e3adda0c9c91ef86ee5f40ea5275f7c27d...</td>\n",
       "      <td>BATCH</td>\n",
       "      <td>LINE</td>\n",
       "    </tr>\n",
       "    <tr>\n",
       "      <th>94564</th>\n",
       "      <td>3myd9x0qoiffb</td>\n",
       "      <td>TEXT</td>\n",
       "      <td>NORMAL</td>\n",
       "      <td>疾管署官網英文版被抓包22日標723例 網譏：為何沒校正回歸？ - Yahoo奇摩新聞\\n\\...</td>\n",
       "      <td>1</td>\n",
       "      <td>2021-05-24T02:04:30.298Z</td>\n",
       "      <td>2021-05-24T02:04:30.298Z</td>\n",
       "      <td>2021-05-24T05:38:22.375Z</td>\n",
       "      <td>c3eda1f09bdda7537ee8e36b785146bcf0cf26c06ed4ab...</td>\n",
       "      <td>RUMORS_LINE_BOT</td>\n",
       "      <td>LINE</td>\n",
       "    </tr>\n",
       "  </tbody>\n",
       "</table>\n",
       "</div>"
      ],
      "text/plain": [
       "                                                 id articleType  status  \\\n",
       "44283                                 1jr0p91yn0z02        TEXT  NORMAL   \n",
       "77361                                 2u0o9tp6oisro        TEXT  NORMAL   \n",
       "128239  tgCC74FujT8eOB4eH7o_AA-QYQB33l_wf_B_sBD2AFg       IMAGE  NORMAL   \n",
       "69314                          AVzi3Sw1yCdS-nWhubDX        TEXT  NORMAL   \n",
       "112461                         RCllXIkBFLWd9xY20XV6       VIDEO  NORMAL   \n",
       "60532                                 152xggotfumkn        TEXT  NORMAL   \n",
       "108138                                27ziz1vv3ut61        TEXT  NORMAL   \n",
       "44112                                  5d556ayoi1o4        TEXT  NORMAL   \n",
       "127706  _wMAb4D7wPL-YGLwPyA_YP_4v_CCwIDAwOD-4fhh8YE       IMAGE  NORMAL   \n",
       "94564                                 3myd9x0qoiffb        TEXT  NORMAL   \n",
       "\n",
       "                                                     text  \\\n",
       "44283   https://www.facebook.com/groups/14171248050680...   \n",
       "77361   轉貼分享\\n\\n美國政客的無恥技倆，已被世人看穿！\\n\\n報載烏克蘭總統澤倫斯基（Volod...   \n",
       "128239  總統、立委選舉\\n攸關國家未來\\n不是意氣之爭\\n國家人民絕對大於黨\\n李艷秋:\\n我們不確...   \n",
       "69314   支付寶又扔了個重磅！馬雲大招不斷，沸騰中國\\nhttp://www.mooner.orgs....   \n",
       "112461  請注意！未接到的電話都不要回撥\\n所有未接到的電話你都不要回撥\\n如果他真的是要找你這一個人...   \n",
       "60532   國民法官LINE貼圖上線，可免費下載，送禮自用兩相宜喔！\\n\\n連結 https://lin...   \n",
       "108138  (quiet volume)9/12法人機構操作通知(loud volume)\\n\\n(su...   \n",
       "44112    https://m.trustglobal.vip/#/register?code=792117   \n",
       "127706                                    ATA-23\\n臺北市政府\\n   \n",
       "94564   疾管署官網英文版被抓包22日標723例 網譏：為何沒校正回歸？ - Yahoo奇摩新聞\\n\\...   \n",
       "\n",
       "       normalArticleReplyCount                 createdAt  \\\n",
       "44283                        1  2021-09-22T12:59:17.846Z   \n",
       "77361                        1  2022-02-13T08:03:59.087Z   \n",
       "128239                       0  2019-11-28T03:51:32.953Z   \n",
       "69314                        1  2017-06-26T05:26:04.596Z   \n",
       "112461                       1  2023-07-16T01:52:03.959Z   \n",
       "60532                        3  2021-08-20T02:59:50.179Z   \n",
       "108138                       0  2023-09-12T18:22:42.364Z   \n",
       "44112                        0  2021-09-25T00:22:24.720Z   \n",
       "127706                       0  2022-03-16T12:12:57.844Z   \n",
       "94564                        1  2021-05-24T02:04:30.298Z   \n",
       "\n",
       "                       updatedAt           lastRequestedAt  \\\n",
       "44283   2021-09-22T12:59:17.846Z  2021-09-22T13:02:21.927Z   \n",
       "77361   2022-02-13T08:03:59.087Z  2022-02-14T08:57:27.325Z   \n",
       "128239                       NaN  2019-11-30T07:40:06.559Z   \n",
       "69314   2017-06-26T05:26:04.596Z  2017-06-26T05:26:04.605Z   \n",
       "112461  2023-07-24T14:20:18.785Z  2023-07-21T23:58:42.504Z   \n",
       "60532   2021-08-20T02:59:50.179Z  2021-08-20T04:26:06.355Z   \n",
       "108138  2023-09-12T18:22:42.364Z  2023-09-12T18:22:42.397Z   \n",
       "44112   2021-09-25T00:22:24.720Z  2021-09-25T00:22:24.754Z   \n",
       "127706                       NaN  2022-03-16T12:13:20.370Z   \n",
       "94564   2021-05-24T02:04:30.298Z  2021-05-24T05:38:22.375Z   \n",
       "\n",
       "                                             userIdsha256            appId  \\\n",
       "44283   117edc7e3ff41c77e51c47f6b27db8b438b91bb9444b4c...  RUMORS_LINE_BOT   \n",
       "77361   f85abeed2af3a1094588f7f8fe237c5953c29041965daf...  RUMORS_LINE_BOT   \n",
       "128239  5d71eb6a2af4e3adda0c9c91ef86ee5f40ea5275f7c27d...            BATCH   \n",
       "69314   01372823f90eed435e68561291f84fa70139eb9545cfa2...  RUMORS_LINE_BOT   \n",
       "112461  327ea5f74cd5e84bb88e5e6ed534756fcb85bf4aa78510...  RUMORS_LINE_BOT   \n",
       "60532   13ebffb8a6817897f5f0615946ed1df0820a20fc5e45e9...  RUMORS_LINE_BOT   \n",
       "108138  a83648e368053e0feb27e9455816f983be6594384f6c5a...  RUMORS_LINE_BOT   \n",
       "44112   759abed2d0f40306fb67a4d253de5240c9a0952c24d14e...  RUMORS_LINE_BOT   \n",
       "127706  5d71eb6a2af4e3adda0c9c91ef86ee5f40ea5275f7c27d...            BATCH   \n",
       "94564   c3eda1f09bdda7537ee8e36b785146bcf0cf26c06ed4ab...  RUMORS_LINE_BOT   \n",
       "\n",
       "       references  \n",
       "44283        LINE  \n",
       "77361        LINE  \n",
       "128239       LINE  \n",
       "69314        LINE  \n",
       "112461       LINE  \n",
       "60532        LINE  \n",
       "108138       LINE  \n",
       "44112        LINE  \n",
       "127706       LINE  \n",
       "94564        LINE  "
      ]
     },
     "execution_count": 3,
     "metadata": {},
     "output_type": "execute_result"
    }
   ],
   "source": [
    "df.sample(10)"
   ]
  },
  {
   "cell_type": "markdown",
   "metadata": {},
   "source": [
    "#### cleaning data"
   ]
  },
  {
   "cell_type": "code",
   "execution_count": 4,
   "metadata": {},
   "outputs": [
    {
     "data": {
      "text/plain": [
       "createdAt\n",
       "False    153745\n",
       "True        317\n",
       "Name: count, dtype: int64"
      ]
     },
     "execution_count": 4,
     "metadata": {},
     "output_type": "execute_result"
    }
   ],
   "source": [
    "# find out how many na values in the createdAt column\n",
    "df.createdAt.isna().value_counts()"
   ]
  },
  {
   "cell_type": "code",
   "execution_count": 5,
   "metadata": {},
   "outputs": [],
   "source": [
    "# drop na values in createdAt column\n",
    "df = df.dropna(subset=['createdAt'])"
   ]
  },
  {
   "cell_type": "markdown",
   "metadata": {},
   "source": [
    "#### data analysis"
   ]
  },
  {
   "cell_type": "code",
   "execution_count": 6,
   "metadata": {},
   "outputs": [
    {
     "data": {
      "text/plain": [
       "(12126, 11)"
      ]
     },
     "execution_count": 6,
     "metadata": {},
     "output_type": "execute_result"
    }
   ],
   "source": [
    "# filter it down to only articles created in 2018\n",
    "df_2018 = df[df.createdAt.str.startswith('2018')]\n",
    "df_2018.shape"
   ]
  },
  {
   "cell_type": "code",
   "execution_count": 7,
   "metadata": {},
   "outputs": [
    {
     "name": "stdout",
     "output_type": "stream",
     "text": [
      "168\n"
     ]
    }
   ],
   "source": [
    "# filter the 2018 data to text contains gay synonyms\n",
    "df2018_gay = df_2018[df_2018.text.str.contains('同性婚|同婚|同性戀|男同志|女同志|LGBT|gay') == True]\n",
    "print(df2018_gay.shape[0])\n",
    "\n",
    "# save to csv\n",
    "# df2018_gay.to_csv('2018_lgbt_articles.csv', index=False)"
   ]
  },
  {
   "cell_type": "code",
   "execution_count": 8,
   "metadata": {},
   "outputs": [],
   "source": [
    "# the themes associated with gay\n",
    "gay_themes = []\n",
    "\n",
    "themes = [\n",
    "        # norms\n",
    "        '常理|常規|倫理|制度|規範|天理|倫常|婚姻價值|輩份|人倫',\n",
    "\n",
    "        # for the sake of next generation\n",
    "        '下一代|子孫|後代|傳承|繁衍|後裔|子女|傳宗接代|傳宗',\n",
    "\n",
    "        # moral\n",
    "        '道德|道義|善正|因果|善惡|報應|妖孽|傷風敗俗',\n",
    "\n",
    "        # christianity\n",
    "        '基督|耶穌|教會|上帝|神父|地獄',\n",
    "\n",
    "        # AIDS/health insurance\n",
    "        '愛滋|健保',\n",
    "\n",
    "        # referendum\n",
    "        '公投|同意',\n",
    "\n",
    "        # starbucks\n",
    "        '星巴克',\n",
    "\n",
    "        # prosmicuity\n",
    "        '亂性|性解放|性行為|性開放|肛交',\n",
    "\n",
    "        # brainwash\n",
    "        '洗腦|灌輸',\n",
    "\n",
    "        # credibility/attribution\n",
    "        '記者|報導|新聞|作者|news'\n",
    "]\n",
    "\n",
    "# find out which theme has the most articles\n",
    "for theme in themes:\n",
    "    # print(theme)\n",
    "    # print(df2018_gay[df2018_gay.text.str.contains(f\"{theme}\") == True].shape[0])\n",
    "    # print('---------')\n",
    "\n",
    "    # if i want to save inidiidual theme to csv\n",
    "    # df2018_gay[df2018_gay.text.str.contains(f\"{theme}\") == True].to_csv(f'2018gay_{theme}.csv', index=False)\n",
    "    \n",
    "    # make a list of dictionaries\n",
    "    data = {\n",
    "            'name' : theme,\n",
    "            'count' : df2018_gay[df2018_gay.text.str.contains(f\"{theme}\") == True].shape[0]\n",
    "        }\n",
    "    gay_themes.append(data)\n",
    "\n",
    "# convert the list of dictionaries to a dataframe\n",
    "df_gay_themes = pd.DataFrame(gay_themes)\n",
    "df_gay_themes.to_csv('2018_gay_themes_count.csv', index=False)"
   ]
  },
  {
   "cell_type": "code",
   "execution_count": 9,
   "metadata": {},
   "outputs": [],
   "source": [
    "# find out when they are created\n",
    "df2018_gay.createdAt.str.extract('2018-(.*)-').value_counts().sort_index().to_csv('2018_timeline.csv')"
   ]
  },
  {
   "cell_type": "code",
   "execution_count": null,
   "metadata": {},
   "outputs": [],
   "source": []
  }
 ],
 "metadata": {
  "kernelspec": {
   "display_name": "Python 3",
   "language": "python",
   "name": "python3"
  },
  "language_info": {
   "codemirror_mode": {
    "name": "ipython",
    "version": 3
   },
   "file_extension": ".py",
   "mimetype": "text/x-python",
   "name": "python",
   "nbconvert_exporter": "python",
   "pygments_lexer": "ipython3",
   "version": "3.11.7"
  }
 },
 "nbformat": 4,
 "nbformat_minor": 2
}
